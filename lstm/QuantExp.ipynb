{
 "cells": [
  {
   "cell_type": "code",
   "execution_count": 1,
   "metadata": {},
   "outputs": [
    {
     "name": "stderr",
     "output_type": "stream",
     "text": [
      "/home/jiaming/miniconda3/envs/torch112/lib/python3.9/site-packages/tqdm/auto.py:21: TqdmWarning: IProgress not found. Please update jupyter and ipywidgets. See https://ipywidgets.readthedocs.io/en/stable/user_install.html\n",
      "  from .autonotebook import tqdm as notebook_tqdm\n"
     ]
    },
    {
     "data": {
      "text/plain": [
       "QuantTensor(value=tensor([[[[ 8.3000e-03,  1.0000e-04,  7.9000e-03, -6.5000e-03, -6.4000e-03],\n",
       "          [-9.5000e-03,  2.5000e-03, -7.4000e-03, -1.1400e-02,  1.1000e-03],\n",
       "          [ 1.0000e-02,  4.4000e-03, -1.1800e-02,  1.1000e-02, -9.0000e-04],\n",
       "          [ 1.3000e-03, -1.2000e-02,  4.7000e-03,  7.7000e-03,  5.4000e-03],\n",
       "          [ 1.1100e-02,  7.4000e-03,  3.9000e-03, -1.0900e-02,  1.1700e-02]],\n",
       "\n",
       "         [[-6.5000e-03, -1.1900e-02, -1.0200e-02, -1.2600e-02, -7.0000e-03],\n",
       "          [ 3.0000e-03,  1.0200e-02,  1.3000e-03, -5.5000e-03,  8.2000e-03],\n",
       "          [-1.2600e-02, -4.7000e-03,  1.2400e-02,  1.7000e-03,  6.6000e-03],\n",
       "          [ 1.2100e-02,  6.8000e-03,  1.7000e-03, -3.5000e-03, -4.3000e-03],\n",
       "          [-1.5000e-03,  8.0000e-04,  3.1000e-03,  7.8000e-03,  1.0000e-04]]]]), scale=tensor(1.0000e-04), zero_point=tensor(0.), bit_width=tensor(8.), signed_t=tensor(True), training_t=tensor(True))"
      ]
     },
     "execution_count": 1,
     "metadata": {},
     "output_type": "execute_result"
    }
   ],
   "source": [
    "import torch\n",
    "from brevitas.quant_tensor import QuantTensor\n",
    "\n",
    "scale = 0.0001\n",
    "bit_width = 8\n",
    "zero_point = 0.\n",
    "int_value = torch.randint(low=- 2 ** (bit_width - 1), high=2 ** (bit_width - 1) - 1, size=(1, 2, 5, 5))\n",
    "quant_value = (int_value - zero_point) * scale\n",
    "quant_tensor_input = QuantTensor(\n",
    "    quant_value,\n",
    "    scale=torch.tensor(scale),\n",
    "    zero_point=torch.tensor(zero_point),\n",
    "    bit_width=torch.tensor(float(bit_width)),\n",
    "    signed=True,\n",
    "    training=True)\n",
    "quant_tensor_input"
   ]
  },
  {
   "cell_type": "code",
   "execution_count": 2,
   "metadata": {},
   "outputs": [
    {
     "data": {
      "text/plain": [
       "tensor(1.0000e-04)"
      ]
     },
     "execution_count": 2,
     "metadata": {},
     "output_type": "execute_result"
    }
   ],
   "source": [
    "quant_tensor_input.scale"
   ]
  },
  {
   "cell_type": "code",
   "execution_count": 11,
   "metadata": {},
   "outputs": [
    {
     "name": "stdout",
     "output_type": "stream",
     "text": [
      "ACT fix point: 5.5095983415989975\n"
     ]
    }
   ],
   "source": [
    "import torch\n",
    "from brevitas.nn import QuantIdentity\n",
    "from brevitas.quant.fixed_point import Int8ActPerTensorFixedPoint\n",
    "inp = torch.randn(1, 2, 5, 5)\n",
    "act = QuantIdentity(act_quant=Int8ActPerTensorFixedPoint, return_quant_tensor=True)\n",
    "act_out = act(inp)\n",
    "\n",
    "import math\n",
    "print(f\"ACT fix point: {- math.log2(act_out.scale)}\")"
   ]
  },
  {
   "cell_type": "code",
   "execution_count": 13,
   "metadata": {},
   "outputs": [
    {
     "name": "stdout",
     "output_type": "stream",
     "text": [
      "Weight QuantTensor:\n",
      " QuantTensor(value=tensor([[-0.0078,  0.3828],\n",
      "        [-0.5781, -0.5234],\n",
      "        [-0.2734,  0.1875],\n",
      "        [-0.0156,  0.5625]], grad_fn=<MulBackward0>), scale=tensor(0.0078, grad_fn=<DivBackward0>), zero_point=tensor(0.), bit_width=tensor(8.), signed_t=tensor(True), training_t=tensor(True))\n",
      "Weight fix point: 7.0\n"
     ]
    }
   ],
   "source": [
    "torch.manual_seed(0)\n",
    "\n",
    "import math\n",
    "from brevitas.quant import Int8WeightPerTensorFixedPoint\n",
    "from brevitas.nn import QuantLinear\n",
    "\n",
    "quant_linear = QuantLinear(2, 4, weight_quant=Int8WeightPerTensorFixedPoint, bias=False)\n",
    "\n",
    "print(f\"Weight QuantTensor:\\n {quant_linear.quant_weight()}\")\n",
    "print(f\"Weight fix point: {- math.log2(quant_linear.quant_weight().scale)}\")"
   ]
  },
  {
   "cell_type": "code",
   "execution_count": null,
   "metadata": {},
   "outputs": [],
   "source": [
    "from brevitas.quant.solver import WeightQuantSolver, ActQuantSolver\n",
    "class Int8WeightPerTensorFloat(WeightQuantSolver):\n",
    "    quant_type = QuantType.INT # integer quantization\n",
    "    bit_width_impl_type = BitWidthImplType.CONST # constant bit width\n",
    "    float_to_int_impl_type = FloatToIntImplType.ROUND # round to nearest\n",
    "    scaling_impl_type = ScalingImplType.STATS # scale based on statistics\n",
    "    scaling_stats_op = StatsOp.MAX # scale statistics is the absmax value\n",
    "    restrict_scaling_type = RestrictValueType.FP # scale factor is a floating point value\n",
    "    scaling_per_output_channel = False # scale is per tensor\n",
    "    bit_width = 8 # bit width is 8\n",
    "    signed = True # quantization range is signed\n",
    "    narrow_range = True # quantization range is [-127,127] rather than [-128, 127]\n",
    "    zero_point_impl = ZeroZeroPoint # zero point is 0."
   ]
  }
 ],
 "metadata": {
  "kernelspec": {
   "display_name": "torch112",
   "language": "python",
   "name": "python3"
  },
  "language_info": {
   "codemirror_mode": {
    "name": "ipython",
    "version": 3
   },
   "file_extension": ".py",
   "mimetype": "text/x-python",
   "name": "python",
   "nbconvert_exporter": "python",
   "pygments_lexer": "ipython3",
   "version": "3.9.19"
  }
 },
 "nbformat": 4,
 "nbformat_minor": 2
}
